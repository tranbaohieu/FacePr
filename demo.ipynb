{
 "cells": [
  {
   "cell_type": "code",
   "execution_count": 1,
   "metadata": {},
   "outputs": [
    {
     "name": "stderr",
     "output_type": "stream",
     "text": [
      "/Users/tranhieu/miniconda/envs/ocr/lib/python3.8/site-packages/tqdm/auto.py:22: TqdmWarning: IProgress not found. Please update jupyter and ipywidgets. See https://ipywidgets.readthedocs.io/en/stable/user_install.html\n",
      "  from .autonotebook import tqdm as notebook_tqdm\n"
     ]
    }
   ],
   "source": [
    "import numpy as np\n",
    "import os\n",
    "import matplotlib.pyplot as plt\n",
    "import cv2\n",
    "from imageio import imread\n",
    "from scipy.spatial import distance\n",
    "import torch \n",
    "from torchvision import transforms\n",
    "from facenet_pytorch import InceptionResnetV1, fixed_image_standardization\n",
    "\n",
    "import pandas as pd\n",
    "from tqdm import tqdm\n",
    "import dlib\n",
    "from align import AlignDlib\n",
    "import glob\n",
    "import imutils\n"
   ]
  },
  {
   "cell_type": "code",
   "execution_count": 2,
   "metadata": {},
   "outputs": [
    {
     "name": "stdout",
     "output_type": "stream",
     "text": [
      "cpu\n"
     ]
    }
   ],
   "source": [
    "# INITIALIZE MODELS\n",
    "device = torch.device('cuda:0' if torch.cuda.is_available() else 'cpu')\n",
    "print(device)\n",
    "\n",
    "nn4_small2 = InceptionResnetV1(\n",
    "    classify=False,\n",
    "    pretrained=\"casia-webface\"\n",
    ").to(device)\n",
    "\n",
    "nn4_small2.eval()\n",
    "\n",
    "alignment = AlignDlib('shape_predictor_68_face_landmarks.dat')"
   ]
  },
  {
   "cell_type": "code",
   "execution_count": 3,
   "metadata": {},
   "outputs": [
    {
     "name": "stdout",
     "output_type": "stream",
     "text": [
      "['image/ed_sheeran', 'image/adam_levine', 'image/me', 'image/adele', 'image/taylor_swift']\n",
      "                                               image  label        name\n",
      "0  image/ed_sheeran/Screenshot 2024-01-15 at 16.4...      0  ed_sheeran\n",
      "1  image/ed_sheeran/Screenshot 2024-01-15 at 16.3...      0  ed_sheeran\n",
      "2  image/ed_sheeran/ed-sheeran_glamour_16mar17_re...      0  ed_sheeran\n",
      "3  image/ed_sheeran/Screenshot 2024-01-15 at 16.4...      0  ed_sheeran\n",
      "4  image/ed_sheeran/Screenshot 2024-01-15 at 16.4...      0  ed_sheeran\n"
     ]
    }
   ],
   "source": [
    "#LOAD TRAINING INFORMATION\n",
    "train_paths = glob.glob(\"image/*\")\n",
    "print(train_paths)\n",
    "\n",
    "nb_classes = len(train_paths)\n",
    "\n",
    "df_train = pd.DataFrame(columns=['image', 'label', 'name'])\n",
    "\n",
    "for i,train_path in enumerate(train_paths):\n",
    "    name = os.path.basename(train_path)\n",
    "    images = glob.glob(train_path + \"/*\")\n",
    "    for image in images:\n",
    "        df_train.loc[len(df_train)]=[image,i,name]\n",
    "        \n",
    "print(df_train.head())"
   ]
  },
  {
   "cell_type": "code",
   "execution_count": 4,
   "metadata": {},
   "outputs": [],
   "source": [
    "# PRE-PROCESSING\n",
    "def l2_normalize(x, axis=-1, epsilon=1e-10):\n",
    "    output = x / np.sqrt(np.maximum(np.sum(np.square(x), axis=axis, keepdims=True), epsilon))\n",
    "    return output\n",
    "\n",
    "def align_face(face):\n",
    "    (h,w,c) = face.shape\n",
    "    bb = dlib.rectangle(0, 0, w, h)\n",
    "    aligned_face = alignment.align(96, face, bb,landmarkIndices=AlignDlib.OUTER_EYES_AND_NOSE)\n",
    "    return aligned_face\n",
    "  \n",
    "def load_and_align_images(filepaths):\n",
    "    aligned_images = []\n",
    "    for filepath in filepaths:\n",
    "        #print(filepath)\n",
    "        img = cv2.imread(filepath)\n",
    "        aligned = align_face(img)\n",
    "        aligned = (aligned / 255.).astype(np.float32)\n",
    "        aligned = aligned.transpose((2, 0, 1))\n",
    "        aligned = np.expand_dims(aligned, axis=0)\n",
    "        aligned_images.append(aligned)\n",
    "            \n",
    "    return np.array(aligned_images)\n",
    "    \n",
    "def calc_embs(filepaths, batch_size=2): \n",
    "    pd = []\n",
    "    for start in tqdm(range(0, len(filepaths), batch_size)):\n",
    "        aligned_images = load_and_align_images(filepaths[start:start+batch_size])\n",
    "        aligned_images = torch.from_numpy(aligned_images).squeeze(1)\n",
    "        emb = nn4_small2(aligned_images).detach().numpy()\n",
    "        pd.append(emb)\n",
    "    #embs = l2_normalize(np.concatenate(pd))\n",
    "    embs = np.concatenate(pd, axis=0)\n",
    "\n",
    "    return embs\n",
    "    \n",
    "def align_faces(faces):\n",
    "    aligned_images = []\n",
    "    for face in faces:\n",
    "        #print(face.shape)\n",
    "        aligned = align_face(face)\n",
    "        aligned = (aligned / 255.).astype(np.float32)\n",
    "        aligned = aligned.transpose((2, 0, 1))\n",
    "        aligned_images.append(aligned)\n",
    "        \n",
    "    return aligned_images\n",
    "\n",
    "def calc_emb_test(faces):\n",
    "    pd = []\n",
    "    aligned_faces = align_faces(faces)\n",
    "    aligned_faces = np.array(aligned_faces)\n",
    "    aligned_faces = torch.from_numpy(aligned_faces)\n",
    "    pd.append(nn4_small2(aligned_faces).detach().numpy())\n",
    "    #embs = l2_normalize(np.concatenate(pd))\n",
    "    embs = np.concatenate(pd, axis=0)\n",
    "    return np.array(embs)\n",
    "\n",
    "def trans(img):\n",
    "    transform = transforms.Compose([\n",
    "            transforms.ToTensor(),\n",
    "            fixed_image_standardization\n",
    "        ])\n",
    "    return transform(img)\n",
    "\n",
    "def fixed_image_standardization(image_tensor):\n",
    "    processed_tensor = (image_tensor - 127.5) / 128.0\n",
    "    return processed_tensor\n"
   ]
  },
  {
   "cell_type": "code",
   "execution_count": 5,
   "metadata": {},
   "outputs": [
    {
     "name": "stderr",
     "output_type": "stream",
     "text": [
      "100%|██████████| 5/5 [00:00<00:00, 655.48it/s]\n",
      " 93%|█████████▎| 13/14 [00:01<00:00,  9.84it/s][W NNPACK.cpp:64] Could not initialize NNPACK! Reason: Unsupported hardware.\n",
      "100%|██████████| 14/14 [00:01<00:00,  8.76it/s]\n"
     ]
    }
   ],
   "source": [
    "# TRAINING\n",
    "label2idx = []\n",
    "\n",
    "for i in tqdm(range(len(train_paths))):\n",
    "    label2idx.append(np.asarray(df_train[df_train.label == i].index))\n",
    "\n",
    "train_embs = calc_embs(df_train.image)\n",
    "np.save(\"train_embs.npy\", train_embs)"
   ]
  },
  {
   "cell_type": "code",
   "execution_count": 6,
   "metadata": {},
   "outputs": [],
   "source": [
    "train_embs = np.load(\"train_embs.npy\")"
   ]
  },
  {
   "cell_type": "code",
   "execution_count": 7,
   "metadata": {},
   "outputs": [
    {
     "data": {
      "image/png": "[encoded data removed]",
      "text/plain": [
       "<Figure size 640x480 with 1 Axes>"
      ]
     },
     "metadata": {},
     "output_type": "display_data"
    }
   ],
   "source": [
    "# ANALYSING\n",
    "import matplotlib.pyplot as plt\n",
    "\n",
    "match_distances = []\n",
    "for i in range(nb_classes):\n",
    "    ids = label2idx[i]\n",
    "    distances = []\n",
    "    for j in range(len(ids) - 1):\n",
    "        for k in range(j + 1, len(ids)):\n",
    "            distances.append(distance.euclidean(train_embs[ids[j]].reshape(-1), train_embs[ids[k]].reshape(-1)))\n",
    "    match_distances.extend(distances)\n",
    "    \n",
    "unmatch_distances = []\n",
    "for i in range(nb_classes):\n",
    "    ids = label2idx[i]\n",
    "    distances = []\n",
    "    for j in range(10):\n",
    "        idx = np.random.randint(train_embs.shape[0])\n",
    "        while idx in label2idx[i]:\n",
    "            idx = np.random.randint(train_embs.shape[0])\n",
    "        distances.append(distance.euclidean(train_embs[ids[np.random.randint(len(ids))]].reshape(-1), train_embs[idx].reshape(-1)))\n",
    "    unmatch_distances.extend(distances)\n",
    "    \n",
    "_,_,_=plt.hist(match_distances,bins=100)\n",
    "_,_,_=plt.hist(unmatch_distances,bins=100,fc=(1, 0, 0, 0.5))\n",
    "\n",
    "plt.show()"
   ]
  },
  {
   "cell_type": "code",
   "execution_count": 8,
   "metadata": {},
   "outputs": [],
   "source": [
    "threshold = 1"
   ]
  },
  {
   "cell_type": "code",
   "execution_count": 9,
   "metadata": {},
   "outputs": [
    {
     "name": "stdout",
     "output_type": "stream",
     "text": [
      "len(faces) = 2\n"
     ]
    },
    {
     "name": "stderr",
     "output_type": "stream",
     "text": [
      "/var/folders/g8/skpdfyzn41v7g2r7cy0fqs4r0000gn/T/ipykernel_94637/1687410674.py:44: FutureWarning: elementwise comparison failed; returning scalar instead, but in the future will perform elementwise comparison\n",
      "  if p == \"unknown\":\n"
     ]
    },
    {
     "name": "stdout",
     "output_type": "stream",
     "text": [
      "len(faces) = 2\n",
      "len(faces) = 1\n",
      "len(faces) = 2\n",
      "len(faces) = 2\n",
      "len(faces) = 1\n"
     ]
    },
    {
     "ename": "",
     "evalue": "",
     "output_type": "error",
     "traceback": [
      "\u001b[1;31mThe Kernel crashed while executing code in the the current cell or a previous cell. Please review the code in the cell(s) to identify a possible cause of the failure. Click <a href='https://aka.ms/vscodeJupyterKernelCrash'>here</a> for more info. View Jupyter <a href='command:jupyter.viewOutput'>log</a> for further details."
     ]
    }
   ],
   "source": [
    "# TEST\n",
    "test_paths = glob.glob(\"test_image/*.jpg\")\n",
    "for path in test_paths:\n",
    "    test_image = cv2.imread(path)\n",
    "    show_image = test_image.copy()\n",
    "\n",
    "    hogFaceDetector = dlib.get_frontal_face_detector()\n",
    "    faceRects = hogFaceDetector(test_image, 0)\n",
    "    \n",
    "    faces = []\n",
    "    \n",
    "    for faceRect in faceRects:\n",
    "        x1 = faceRect.left()\n",
    "        y1 = faceRect.top()\n",
    "        x2 = faceRect.right()\n",
    "        y2 = faceRect.bottom()\n",
    "        face = test_image[y1:y2,x1:x2]\n",
    "        \n",
    "        faces.append(face)\n",
    "\n",
    "    print(\"len(faces) = {0}\".format(len(faces)))\n",
    "    if(len(faces)==0):\n",
    "        print(\"no face detected!\")\n",
    "        continue\n",
    "    else:    \n",
    "        test_embs = calc_emb_test(faces)\n",
    "        \n",
    "    people = []\n",
    "    for i in range(test_embs.shape[0]):\n",
    "        distances = []\n",
    "        for j in range(len(train_paths)):\n",
    "            distances.append(np.min([distance.euclidean(test_embs[i].reshape(-1), train_embs[k].reshape(-1)) for k in label2idx[j]]))\n",
    "            #for k in label2idx[j]:\n",
    "                #print(distance.euclidean(test_embs[i].reshape(-1), train_embs[k].reshape(-1)))\n",
    "        if np.min(distances)>threshold:\n",
    "            people.append(\"unknown\")\n",
    "        else:\n",
    "            res = np.argsort(distances)[:1]\n",
    "            people.append(res)\n",
    "\n",
    "    names = []\n",
    "    title = \"\"\n",
    "    for p in people:\n",
    "        if p == \"unknown\":\n",
    "            name = \"unknown\"\n",
    "        else:\n",
    "            name = df_train[(df_train['label']==p[0])].name.iloc[0]\n",
    "            name = name.split(\"/\")[-1]\n",
    "        names.append(name)\n",
    "        title = title + name + \" \"\n",
    "        \n",
    "    for i,faceRect in enumerate(faceRects):\n",
    "        x1 = faceRect.left()\n",
    "        y1 = faceRect.top()\n",
    "        x2 = faceRect.right()\n",
    "        y2 = faceRect.bottom()\n",
    "        cv2.rectangle(show_image,(x1,y1),(x2,y2),(255,0,0),3)\n",
    "        cv2.putText(show_image,names[i],(x1,y1-5), cv2.FONT_HERSHEY_SIMPLEX, 2,(255,0,0),1,cv2.LINE_AA)\n",
    "        \n",
    "\n",
    "    show_image = imutils.resize(show_image,width = 720)   \n",
    "    cv2.imshow(\"result\",show_image)\n",
    "    cv2.waitKey(0)\n",
    "    cv2.destroyAllWindows()"
   ]
  },
  {
   "cell_type": "code",
   "execution_count": 1,
   "metadata": {},
   "outputs": [
    {
     "name": "stderr",
     "output_type": "stream",
     "text": [
      "/Users/tranhieu/miniconda/envs/ocr/lib/python3.8/site-packages/tqdm/auto.py:22: TqdmWarning: IProgress not found. Please update jupyter and ipywidgets. See https://ipywidgets.readthedocs.io/en/stable/user_install.html\n",
      "  from .autonotebook import tqdm as notebook_tqdm\n"
     ]
    },
    {
     "name": "stdout",
     "output_type": "stream",
     "text": [
      "cpu\n"
     ]
    }
   ],
   "source": [
    "import cv2\n",
    "from facenet_pytorch import MTCNN\n",
    "import torch\n",
    "\n",
    "device =  torch.device('cuda:0' if torch.cuda.is_available() else 'cpu')\n",
    "print(device)\n"
   ]
  },
  {
   "cell_type": "code",
   "execution_count": 2,
   "metadata": {},
   "outputs": [],
   "source": [
    "mtcnn = MTCNN(thresholds= [0.7, 0.7, 0.8] ,keep_all=True, device = device)"
   ]
  },
  {
   "cell_type": "code",
   "execution_count": 3,
   "metadata": {},
   "outputs": [
    {
     "name": "stderr",
     "output_type": "stream",
     "text": [
      "OpenCV: not authorized to capture video (status 0), requesting...\n",
      "OpenCV: camera failed to properly initialize!\n"
     ]
    }
   ],
   "source": [
    "cap = cv2.VideoCapture(0)\n",
    "cap.set(cv2.CAP_PROP_FRAME_WIDTH,640)\n",
    "cap.set(cv2.CAP_PROP_FRAME_HEIGHT,480)\n",
    "while cap.isOpened():\n",
    "    isSuccess, frame = cap.read()\n",
    "    if isSuccess:\n",
    "        boxes, _ = mtcnn.detect(frame)\n",
    "        if boxes is not None:\n",
    "            for box in boxes:\n",
    "                bbox = list(map(int,box.tolist()))\n",
    "                frame = cv2.rectangle(frame,(bbox[0],bbox[1]),(bbox[2],bbox[3]),(0,0,255),6)\n",
    "    cv2.imshow('Face Detection', frame)\n",
    "    if cv2.waitKey(1)&0xFF == 27:\n",
    "        break\n",
    "cap.release()\n",
    "cv2.destroyAllWindows()\n"
   ]
  }
 ],
 "metadata": {
  "kernelspec": {
   "display_name": "ocr",
   "language": "python",
   "name": "python3"
  },
  "language_info": {
   "codemirror_mode": {
    "name": "ipython",
    "version": 3
   },
   "file_extension": ".py",
   "mimetype": "text/x-python",
   "name": "python",
   "nbconvert_exporter": "python",
   "pygments_lexer": "ipython3",
   "version": "3.8.0"
  },
  "orig_nbformat": 4
 },
 "nbformat": 4,
 "nbformat_minor": 2
}
